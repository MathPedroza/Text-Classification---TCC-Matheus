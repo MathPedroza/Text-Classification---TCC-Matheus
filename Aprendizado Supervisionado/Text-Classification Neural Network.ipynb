{
 "cells": [
  {
   "cell_type": "markdown",
   "id": "5ea00832",
   "metadata": {},
   "source": [
    "# IMPORTANDO BIBLIOTECAS NECESSÁRIAS"
   ]
  },
  {
   "cell_type": "code",
   "execution_count": 1,
   "id": "8b29f6ce",
   "metadata": {},
   "outputs": [],
   "source": [
    "import nltk\n",
    "from nltk.stem.lancaster import LancasterStemmer\n",
    "import os\n",
    "import json\n",
    "import datetime\n",
    "stemmer = LancasterStemmer()"
   ]
  },
  {
   "cell_type": "code",
   "execution_count": 2,
   "id": "ff69d584",
   "metadata": {},
   "outputs": [],
   "source": [
    "# Base de dados de treinamento, 12 frases pertencentes a 3 classes (\"intenções\"). "
   ]
  },
  {
   "cell_type": "code",
   "execution_count": 3,
   "id": "dc9819c0",
   "metadata": {},
   "outputs": [
    {
     "name": "stdout",
     "output_type": "stream",
     "text": [
      "12 sentences in training data\n"
     ]
    }
   ],
   "source": [
    "# 3 Classe de dados de treinamento\n",
    "training_data = []\n",
    "training_data.append({\"class\":\"greeting\", \"sentence\":\"how are you?\"})\n",
    "training_data.append({\"class\":\"greeting\", \"sentence\":\"how is your day?\"})\n",
    "training_data.append({\"class\":\"greeting\", \"sentence\":\"good day\"})\n",
    "training_data.append({\"class\":\"greeting\", \"sentence\":\"how is it going today?\"})\n",
    "\n",
    "training_data.append({\"class\":\"goodbye\", \"sentence\":\"have a nice day\"})\n",
    "training_data.append({\"class\":\"goodbye\", \"sentence\":\"see you later\"})\n",
    "training_data.append({\"class\":\"goodbye\", \"sentence\":\"have a nice day\"})\n",
    "training_data.append({\"class\":\"goodbye\", \"sentence\":\"talk to you soon\"})\n",
    "\n",
    "training_data.append({\"class\":\"sandwich\", \"sentence\":\"make me a sandwich\"})\n",
    "training_data.append({\"class\":\"sandwich\", \"sentence\":\"can you make a sandwich?\"})\n",
    "training_data.append({\"class\":\"sandwich\", \"sentence\":\"having a sandwich today?\"})\n",
    "training_data.append({\"class\":\"sandwich\", \"sentence\":\"what's for lunch?\"})\n",
    "print (\"%s sentences in training data\" % len(training_data))"
   ]
  },
  {
   "cell_type": "code",
   "execution_count": 4,
   "id": "50cddc04",
   "metadata": {},
   "outputs": [],
   "source": [
    "# Organizando nossas estruturas de dados para documentos, classes e palavras. "
   ]
  },
  {
   "cell_type": "code",
   "execution_count": 5,
   "id": "3cd67a99",
   "metadata": {},
   "outputs": [
    {
     "name": "stdout",
     "output_type": "stream",
     "text": [
      "12 documents\n",
      "3 classes ['greeting', 'sandwich', 'goodbye']\n",
      "26 unique stemmed words ['can', 'nic', 'today', 'good', 'lat', 'is', 'you', 'to', 'for', 'day', 'lunch', 'me', 'what', 'talk', 'a', 'going', \"'s\", 'how', 'soon', 'hav', 'sandwich', 'it', 'ar', 'see', 'mak', 'yo']\n"
     ]
    }
   ],
   "source": [
    "words = []\n",
    "classes = []\n",
    "documents = []\n",
    "ignore_words = ['?']\n",
    "# percorrer cada frase em nosss dados de treinamento \n",
    "for pattern in training_data:\n",
    "    # tokenizar cada palavra na frase \n",
    "    w = nltk.word_tokenize(pattern['sentence'])\n",
    "    # adicionar para a lista de palavras\n",
    "    words.extend(w)\n",
    "    # dicionar aos documentos em nosso corpus \n",
    "    documents.append((w, pattern['class']))\n",
    "    # adicionar a nossa lista de classes\n",
    "    if pattern['class'] not in classes:\n",
    "        classes.append(pattern['class'])\n",
    "\n",
    "# radicalizar e diminuir cada palavra e remover duplicatas \n",
    "words = [stemmer.stem(w.lower()) for w in words if w not in ignore_words]\n",
    "words = list(set(words))\n",
    "\n",
    "# remover duplicadas\n",
    "classes = list(set(classes))\n",
    "\n",
    "print (len(documents), \"documents\")\n",
    "print (len(classes), \"classes\", classes)\n",
    "print (len(words), \"unique stemmed words\", words)"
   ]
  },
  {
   "cell_type": "code",
   "execution_count": 6,
   "id": "a7f91332",
   "metadata": {},
   "outputs": [
    {
     "name": "stdout",
     "output_type": "stream",
     "text": [
      "['how', 'ar', 'you', '?']\n",
      "[0, 0, 0, 0, 0, 0, 1, 0, 0, 0, 0, 0, 0, 0, 0, 0, 0, 1, 0, 0, 0, 0, 1, 0, 0, 0]\n",
      "[1, 0, 0]\n"
     ]
    }
   ],
   "source": [
    "# Criando os dados de treinamento\n",
    "training = []\n",
    "output = []\n",
    "# Criando um array vazio para a saída\n",
    "output_empty = [0] * len(classes)\n",
    "\n",
    "# conjunto de treinamento, saco de palavras para cada frase \n",
    "for doc in documents:\n",
    "    # Inicializando nosso saco de palavras\n",
    "    bag = []\n",
    "    # lista de palavras tokenizadas para o padrão \n",
    "    pattern_words = doc[0]\n",
    "    # radical de cada palavra \n",
    "    pattern_words = [stemmer.stem(word.lower()) for word in pattern_words]\n",
    "    # criando nossa coleção de palavras \n",
    "    for w in words:\n",
    "        bag.append(1) if w in pattern_words else bag.append(0)\n",
    "\n",
    "    training.append(bag)\n",
    "    # a saída é um '0' para cada tag e '1' para a tag atual \n",
    "    output_row = list(output_empty)\n",
    "    output_row[classes.index(doc[1])] = 1\n",
    "    output.append(output_row)\n",
    "\n",
    "# amostra de treinamento / saída \n",
    "i = 0\n",
    "w = documents[i][0]\n",
    "print ([stemmer.stem(word.lower()) for word in w])\n",
    "print (training[i])\n",
    "print (output[i])"
   ]
  },
  {
   "cell_type": "code",
   "execution_count": 7,
   "id": "7bdcf61f",
   "metadata": {},
   "outputs": [],
   "source": [
    "# Cada frase de treinamento é reduzida a uma matriz de 0 e 1 contra a matriz de palavras únicas no corpus. "
   ]
  },
  {
   "cell_type": "code",
   "execution_count": 8,
   "id": "ae52b77a",
   "metadata": {},
   "outputs": [],
   "source": [
    "# Em seguida, temos nossas funções principais para a rede neural de 2 camadas.\n",
    "# Usando numpy porque queremos que a multiplicação da nossa matriz seja rápida.\n",
    "\n",
    "# Usaremos uma função sigmóide para normalizar os valores e sua derivada para medir a taxa de erro. Iterando e ajustando \n",
    "# até que nossa taxa de erro seja aceitavelmente baixa.\n",
    "# Também abaixo, implementamos a função de saco de palavras, transformando uma frase de entrada em uma matriz de 0 e 1. \n",
    "# Isso corresponde precisamente à nossa transformação para dados de treinamento, sempre crucial para acertar. "
   ]
  },
  {
   "cell_type": "code",
   "execution_count": 9,
   "id": "e4dc7caf",
   "metadata": {},
   "outputs": [],
   "source": [
    "import numpy as np\n",
    "import time\n",
    "\n",
    "# computar não linearidade sigmóide \n",
    "def sigmoid(x):\n",
    "    output = 1/(1+np.exp(-x))\n",
    "    return output\n",
    "\n",
    "# converter a saída da função sigmóide em sua derivada \n",
    "def sigmoid_output_to_derivative(output):\n",
    "    return output*(1-output)\n",
    " \n",
    "def clean_up_sentence(sentence):\n",
    "    # tokenizar o padrão\n",
    "    sentence_words = nltk.word_tokenize(sentence)\n",
    "    # radical de cada palavra\n",
    "    sentence_words = [stemmer.stem(word.lower()) for word in sentence_words]\n",
    "    return sentence_words\n",
    "\n",
    "# retorno do array de saco de palavras: 0 ou 1 para cada palavra na bolsa que existe na frase \n",
    "def bow(sentence, words, show_details=False):\n",
    "    # tokenizar o padrão\n",
    "    sentence_words = clean_up_sentence(sentence)\n",
    "    # saco de palavras\n",
    "    bag = [0]*len(words)  \n",
    "    for s in sentence_words:\n",
    "        for i,w in enumerate(words):\n",
    "            if w == s: \n",
    "                bag[i] = 1\n",
    "                if show_details:\n",
    "                    print (\"found in bag: %s\" % w)\n",
    "\n",
    "    return(np.array(bag))\n",
    "\n",
    "def think(sentence, show_details=False):\n",
    "    x = bow(sentence.lower(), words, show_details)\n",
    "    if show_details:\n",
    "        print (\"sentence:\", sentence, \"\\n bow:\", x)\n",
    "    # camada de entrada é o saco de palavras \n",
    "    l0 = x\n",
    "    # multiplicação de matriz de entrada e camada oculta\n",
    "    l1 = sigmoid(np.dot(l0, synapse_0))\n",
    "    # camada de saída\n",
    "    l2 = sigmoid(np.dot(l1, synapse_1))\n",
    "    return l2"
   ]
  },
  {
   "cell_type": "code",
   "execution_count": 10,
   "id": "bb3418f3",
   "metadata": {},
   "outputs": [],
   "source": [
    "# E agora codificamos a função de treinamento de rede neural para criar pesos sinápticos"
   ]
  },
  {
   "cell_type": "code",
   "execution_count": 11,
   "id": "f0a85e91",
   "metadata": {},
   "outputs": [],
   "source": [
    "def train(X, y, hidden_neurons=10, alpha=1, epochs=50000, dropout=False, dropout_percent=0.5):\n",
    "\n",
    "    print (\"Training with %s neurons, alpha:%s, dropout:%s %s\" % (hidden_neurons, str(alpha), dropout, dropout_percent if dropout else '') )\n",
    "    print (\"Input matrix: %sx%s    Output matrix: %sx%s\" % (len(X),len(X[0]),1, len(classes)) )\n",
    "    np.random.seed(1)\n",
    "\n",
    "    last_mean_error = 1\n",
    "    # inicializar aleatoriamente nossos pesos com média 0 \n",
    "    synapse_0 = 2*np.random.random((len(X[0]), hidden_neurons)) - 1\n",
    "    synapse_1 = 2*np.random.random((hidden_neurons, len(classes))) - 1\n",
    "\n",
    "    prev_synapse_0_weight_update = np.zeros_like(synapse_0)\n",
    "    prev_synapse_1_weight_update = np.zeros_like(synapse_1)\n",
    "\n",
    "    synapse_0_direction_count = np.zeros_like(synapse_0)\n",
    "    synapse_1_direction_count = np.zeros_like(synapse_1)\n",
    "        \n",
    "    for j in iter(range(epochs+1)):\n",
    "\n",
    "       # Avançar através das camadas 0, 1 e 2\n",
    "        layer_0 = X\n",
    "        layer_1 = sigmoid(np.dot(layer_0, synapse_0))\n",
    "                \n",
    "        if(dropout):\n",
    "            layer_1 *= np.random.binomial([np.ones((len(X),hidden_neurons))],1-dropout_percent)[0] * (1.0/(1-dropout_percent))\n",
    "\n",
    "        layer_2 = sigmoid(np.dot(layer_1, synapse_1))\n",
    "\n",
    "        # quanto perdemos o valor alvo?\n",
    "        layer_2_error = y - layer_2\n",
    "\n",
    "        if (j% 10000) == 0 and j > 5000:\n",
    "            # se o erro desta iteração de 10k for maior do que a última iteração, interrompa \n",
    "            if np.mean(np.abs(layer_2_error)) < last_mean_error:\n",
    "                print (\"delta after \"+str(j)+\" iterations:\" + str(np.mean(np.abs(layer_2_error))) )\n",
    "                last_mean_error = np.mean(np.abs(layer_2_error))\n",
    "            else:\n",
    "                print (\"break:\", np.mean(np.abs(layer_2_error)), \">\", last_mean_error )\n",
    "                break\n",
    "                \n",
    "        # em que direção está o valor alvo?\n",
    "         # em caso afirmativo, não mude muito.\n",
    "        layer_2_delta = layer_2_error * sigmoid_output_to_derivative(layer_2)\n",
    "\n",
    "        # quanto cada valor l1 contribuiu para o erro l2 (de acordo com os pesos)? \n",
    "        layer_1_error = layer_2_delta.dot(synapse_1.T)\n",
    "\n",
    "        # em que direção está o alvo l1?\n",
    "         # em caso afirmativo, não mude muito. \n",
    "        layer_1_delta = layer_1_error * sigmoid_output_to_derivative(layer_1)\n",
    "        \n",
    "        synapse_1_weight_update = (layer_1.T.dot(layer_2_delta))\n",
    "        synapse_0_weight_update = (layer_0.T.dot(layer_1_delta))\n",
    "        \n",
    "        if(j > 0):\n",
    "            synapse_0_direction_count += np.abs(((synapse_0_weight_update > 0)+0) - ((prev_synapse_0_weight_update > 0) + 0))\n",
    "            synapse_1_direction_count += np.abs(((synapse_1_weight_update > 0)+0) - ((prev_synapse_1_weight_update > 0) + 0))        \n",
    "        \n",
    "        synapse_1 += alpha * synapse_1_weight_update\n",
    "        synapse_0 += alpha * synapse_0_weight_update\n",
    "        \n",
    "        prev_synapse_0_weight_update = synapse_0_weight_update\n",
    "        prev_synapse_1_weight_update = synapse_1_weight_update\n",
    "\n",
    "    now = datetime.datetime.now()\n",
    "\n",
    "    # persistir sinapses \n",
    "    synapse = {'synapse0': synapse_0.tolist(), 'synapse1': synapse_1.tolist(),\n",
    "               'datetime': now.strftime(\"%Y-%m-%d %H:%M\"),\n",
    "               'words': words,\n",
    "               'classes': classes\n",
    "              }\n",
    "    synapse_file = \"synapses.json\"\n",
    "\n",
    "    with open(synapse_file, 'w') as outfile:\n",
    "        json.dump(synapse, outfile, indent=4, sort_keys=True)\n",
    "    print (\"saved synapses to:\", synapse_file)"
   ]
  },
  {
   "cell_type": "code",
   "execution_count": 12,
   "id": "3e05aac5",
   "metadata": {},
   "outputs": [],
   "source": [
    "# Agora estamos prontos para construir nosso modelo de rede neural, vamos salvá-lo como uma estrutura json para representar \n",
    "# nossos pesos sinápticos."
   ]
  },
  {
   "cell_type": "code",
   "execution_count": 13,
   "id": "b6d028ab",
   "metadata": {},
   "outputs": [],
   "source": [
    "# Usamos 20 neurônios em nossa camada oculta, você pode ajustar isso facilmente. Esses parâmetros variam de acordo com \n",
    "# as dimensões e a forma de seus dados de treinamento, ajuste-os para ~ 10 ^ -3 como uma taxa de erro razoável. "
   ]
  },
  {
   "cell_type": "code",
   "execution_count": 14,
   "id": "c41fd03e",
   "metadata": {},
   "outputs": [
    {
     "name": "stdout",
     "output_type": "stream",
     "text": [
      "Training with 20 neurons, alpha:0.1, dropout:False \n",
      "Input matrix: 12x26    Output matrix: 1x3\n",
      "delta after 10000 iterations:0.006225733319071118\n",
      "delta after 20000 iterations:0.004250890578071768\n",
      "delta after 30000 iterations:0.0034102080724900917\n",
      "delta after 40000 iterations:0.002919604826408287\n",
      "delta after 50000 iterations:0.002589532257968587\n",
      "delta after 60000 iterations:0.0023484431665017603\n",
      "delta after 70000 iterations:0.0021626228574582566\n",
      "delta after 80000 iterations:0.0020138573372354977\n",
      "delta after 90000 iterations:0.001891341210744786\n",
      "delta after 100000 iterations:0.001788210187496504\n",
      "saved synapses to: synapses.json\n",
      "processing time: 12.81472897529602 seconds\n"
     ]
    }
   ],
   "source": [
    "X = np.array(training)\n",
    "y = np.array(output)\n",
    "\n",
    "start_time = time.time()\n",
    "\n",
    "train(X, y, hidden_neurons=20, alpha=0.1, epochs=100000, dropout=False, dropout_percent=0.2)\n",
    "\n",
    "elapsed_time = time.time() - start_time\n",
    "print (\"processing time:\", elapsed_time, \"seconds\")"
   ]
  },
  {
   "cell_type": "code",
   "execution_count": 15,
   "id": "fdc6683f",
   "metadata": {},
   "outputs": [],
   "source": [
    "# Esta função classify () é tudo o que é necessário para a classificação, uma vez que os pesos das sinapses foram calculados: ~ 15\n",
    "# linhas de código.\n",
    "# O problema: se houver uma alteração nos dados de treinamento, nosso modelo precisará ser recalculado. Para um conjunto de \n",
    "# dados muito grande, isso pode levar um tempo não insignificante.\n",
    "# Pode-se gerar a  probabilidade de uma frase pertencer a uma (ou mais) de nossas classes. Isso é super rápido porque é cálculo \n",
    "# de produto escalar em nossa função think () definida anteriormente. "
   ]
  },
  {
   "cell_type": "code",
   "execution_count": 16,
   "id": "c6587650",
   "metadata": {},
   "outputs": [
    {
     "name": "stdout",
     "output_type": "stream",
     "text": [
      "sudo make me a sandwich \n",
      " classification: [['sandwich', 0.9983192521328343]]\n",
      "how are you today? \n",
      " classification: [['greeting', 0.9961821336974529]]\n",
      "talk to you tomorrow \n",
      " classification: [['goodbye', 0.9910402499828593]]\n",
      "who are you? \n",
      " classification: [['greeting', 0.7665674422470962], ['goodbye', 0.3010300238481574]]\n",
      "make me some lunch \n",
      " classification: [['sandwich', 0.9877818776159882]]\n",
      "how was your lunch today? \n",
      " classification: [['greeting', 0.7441825112228516], ['sandwich', 0.46171539288365376]]\n",
      "\n",
      "found in bag: good\n",
      "found in bag: day\n",
      "sentence: good day \n",
      " bow: [0 0 0 1 0 0 0 0 0 1 0 0 0 0 0 0 0 0 0 0 0 0 0 0 0 0]\n",
      "good day \n",
      " classification: [['greeting', 0.9968285582022675]]\n"
     ]
    },
    {
     "data": {
      "text/plain": [
       "[['greeting', 0.9968285582022675]]"
      ]
     },
     "execution_count": 16,
     "metadata": {},
     "output_type": "execute_result"
    }
   ],
   "source": [
    "# limite de probabilidade\n",
    "ERROR_THRESHOLD = 0.2\n",
    "# carregue nossos valores de sinapse calculados\n",
    "synapse_file = 'synapses.json' \n",
    "with open(synapse_file) as data_file: \n",
    "    synapse = json.load(data_file) \n",
    "    synapse_0 = np.asarray(synapse['synapse0']) \n",
    "    synapse_1 = np.asarray(synapse['synapse1'])\n",
    "\n",
    "def classify(sentence, show_details=False):\n",
    "    results = think(sentence, show_details)\n",
    "\n",
    "    results = [[i,r] for i,r in enumerate(results) if r>ERROR_THRESHOLD ] \n",
    "    results.sort(key=lambda x: x[1], reverse=True) \n",
    "    return_results =[[classes[r[0]],r[1]] for r in results]\n",
    "    print (\"%s \\n classification: %s\" % (sentence, return_results))\n",
    "    return return_results\n",
    "\n",
    "classify(\"sudo make me a sandwich\")\n",
    "classify(\"how are you today?\")\n",
    "classify(\"talk to you tomorrow\")\n",
    "classify(\"who are you?\")\n",
    "classify(\"make me some lunch\")\n",
    "classify(\"how was your lunch today?\")\n",
    "print()\n",
    "classify(\"good day\", show_details=True)"
   ]
  },
  {
   "cell_type": "code",
   "execution_count": null,
   "id": "cca0aafe",
   "metadata": {},
   "outputs": [],
   "source": []
  }
 ],
 "metadata": {
  "kernelspec": {
   "display_name": "Python 3",
   "language": "python",
   "name": "python3"
  },
  "language_info": {
   "codemirror_mode": {
    "name": "ipython",
    "version": 3
   },
   "file_extension": ".py",
   "mimetype": "text/x-python",
   "name": "python",
   "nbconvert_exporter": "python",
   "pygments_lexer": "ipython3",
   "version": "3.8.8"
  }
 },
 "nbformat": 4,
 "nbformat_minor": 5
}
